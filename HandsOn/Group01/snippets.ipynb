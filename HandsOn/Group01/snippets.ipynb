{
 "cells": [
  {
   "cell_type": "code",
   "execution_count": 1,
   "metadata": {},
   "outputs": [
    {
     "data": {
      "text/plain": [
       "{'place_id': 111275157,\n",
       " 'licence': 'Data © OpenStreetMap contributors, ODbL 1.0. https://osm.org/copyright',\n",
       " 'osm_type': 'way',\n",
       " 'osm_id': 149730605,\n",
       " 'lat': '41.873967',\n",
       " 'lon': '-87.6399763',\n",
       " 'place_rank': 30,\n",
       " 'category': 'office',\n",
       " 'type': 'government',\n",
       " 'importance': 0,\n",
       " 'addresstype': 'office',\n",
       " 'name': 'U.S. Customs House',\n",
       " 'display_name': 'U.S. Customs House, 610, South Canal Street, Greektown, Near West Side, Chicago, Cook County, Illinois, 60607, United States of America',\n",
       " 'address': {'address29': 'U.S. Customs House',\n",
       "  'house_number': '610',\n",
       "  'road': 'South Canal Street',\n",
       "  'neighbourhood': 'Greektown',\n",
       "  'suburb': 'Near West Side',\n",
       "  'city': 'Chicago',\n",
       "  'county': 'Cook County',\n",
       "  'state': 'Illinois',\n",
       "  'postcode': '60607',\n",
       "  'country': 'United States of America',\n",
       "  'country_code': 'us'},\n",
       " 'boundingbox': ['41.8737891', '41.8741449', '-87.6403372', '-87.6396154']}"
      ]
     },
     "execution_count": 1,
     "metadata": {},
     "output_type": "execute_result"
    }
   ],
   "source": [
    "import requests \n",
    "LAT = \"41.874238\"\n",
    "LON = \"-87.639487\"\n",
    "URL = \"https://nominatim.openstreetmap.org/reverse?\"\n",
    "PARAMS = {'lat':LAT,'lon':LON,'format':\"jsonv2\"}\n",
    "r = requests.get(url = URL, params = PARAMS) \n",
    "data = r.json()\n",
    "#data['osm_id']\n",
    "data"
   ]
  },
  {
   "cell_type": "code",
   "execution_count": null,
   "metadata": {},
   "outputs": [],
   "source": [
    "LAT1 = \"41.874452\"\n",
    "LON1 = \"-87.627611\"\n",
    "URL1 = \"https://nominatim.openstreetmap.org/reverse?\"\n",
    "PARAMS1 = {'lat':LAT1,'lon':LON1,'format':\"jsonv2\"}\n",
    "r = requests.get(url = URL1, params = PARAMS1) \n",
    "data = r.json()\n",
    "data['address']['road']"
   ]
  },
  {
   "cell_type": "code",
   "execution_count": null,
   "metadata": {},
   "outputs": [],
   "source": [
    "import math\n",
    "LAT2 = str(math.floor((41.874238 + 41.874452)/2))\n",
    "LON2 = str(math.floor((-87.639487 + -87.627611)/2))\n",
    "URL2 = \"https://nominatim.openstreetmap.org/reverse?\"\n",
    "PARAMS2 = {'lat':LAT2,'lon':LON2,'format':\"jsonv2\"}\n",
    "r = requests.get(url = URL2, params = PARAMS2) \n",
    "data = r.json()\n",
    "data['address']['road']"
   ]
  },
  {
   "cell_type": "code",
   "execution_count": 2,
   "metadata": {},
   "outputs": [
    {
     "data": {
      "text/plain": [
       "{'streetSegment': [{'wayId': '203444889',\n",
       "   'distance': '0.02',\n",
       "   'line': '-87.6395071 41.8744041,-87.6394289 41.8738861,-87.6394181 41.8737583,-87.6393618 41.8720327,-87.6393586 41.8719155,-87.6393044 41.869955,-87.6393024 41.8698836,-87.6392985 41.8697424',\n",
       "   'countryCode': 'US',\n",
       "   'name': 'South Canal Street',\n",
       "   'highway': 'secondary'},\n",
       "  {'wayId': '24213605',\n",
       "   'distance': '0.02',\n",
       "   'line': '-87.6364902 41.8744502,-87.6379456 41.8744219,-87.6395071 41.8744041',\n",
       "   'countryCode': 'US',\n",
       "   'name': 'West Harrison Street',\n",
       "   'highway': 'secondary'},\n",
       "  {'wayId': '255623936',\n",
       "   'distance': '0.02',\n",
       "   'line': '-87.6395071 41.8744041,-87.6397256 41.8744007,-87.6398637 41.8743996,-87.6401107 41.8743975,-87.6404994 41.8743942,-87.6409379 41.8743903',\n",
       "   'countryCode': 'US',\n",
       "   'name': 'West Harrison Street',\n",
       "   'highway': 'secondary'},\n",
       "  {'wayId': '163148283',\n",
       "   'distance': '0.02',\n",
       "   'line': '-87.6395071 41.8744041,-87.6395683 41.8745612,-87.6395961 41.874705,-87.6396047 41.8748392,-87.6396519 41.8767611,-87.6395658 41.877164',\n",
       "   'countryCode': 'US',\n",
       "   'name': 'South Canal Street',\n",
       "   'highway': 'secondary',\n",
       "   'oneway': 'true'}]}"
      ]
     },
     "execution_count": 2,
     "metadata": {},
     "output_type": "execute_result"
    }
   ],
   "source": [
    "import requests \n",
    "LAT = \"41.874238\"\n",
    "LON = \"-87.639487\"\n",
    "URL = \"http://api.geonames.org/findNearbyStreetsOSMJSON?\"\n",
    "PARAMS = {'lat':LAT,'lng':LON,'radius':\"0.1\",'username':\"user1029384756\"}\n",
    "r = requests.get(url = URL, params = PARAMS) \n",
    "data = r.json()\n",
    "#data['streetSegment'][0]['name']\n",
    "data"
   ]
  },
  {
   "cell_type": "code",
   "execution_count": null,
   "metadata": {},
   "outputs": [],
   "source": [
    "import requests\n",
    "import csv\n",
    "import math\n",
    "from time import sleep\n",
    "with open('output.csv') as csv_file:\n",
    "    reader = csv.reader(csv_file,delimiter=',')\n",
    "    writer = csv.writer(open('from.csv', 'w', newline=''))\n",
    "    headers = next(reader)\n",
    "    i = 0\n",
    "    for row in reader:\n",
    "        LAT = row[16]\n",
    "        LON = row[17]\n",
    "        r = requests.get(url = \"https://nominatim.openstreetmap.org/reverse?\", params = {'lat':LAT,'lon':LON,'format':\"jsonv2\"}) \n",
    "        data = r.json()\n",
    "        row[6] = data['address']['road']\n",
    "        #LAT1 = row[18]\n",
    "        #LON1 = row[19]\n",
    "        #r1 = requests.get(url = \"https://nominatim.openstreetmap.org/reverse?\", params = {'lat':LAT1,'lon':LON1,'format':\"jsonv2\"}) \n",
    "        #sleep(1)\n",
    "        #data1 = r1.json()\n",
    "        #row[7] = data1['address']['road']\n",
    "        writer.writerow(row)"
   ]
  },
  {
   "cell_type": "code",
   "execution_count": null,
   "metadata": {
    "scrolled": true
   },
   "outputs": [],
   "source": [
    "import requests\n",
    "import csv\n",
    "import math\n",
    "from time import sleep\n",
    "with open('dataset_sample.csv') as csv_file:\n",
    "    reader = csv.reader(csv_file,delimiter=',')\n",
    "    writer = csv.writer(open('output.csv', 'a', newline=''))\n",
    "    headers = next(reader)\n",
    "    headers.append(\"OSM ID\")\n",
    "    writer.writerow(headers)\n",
    "    for row in reader:\n",
    "        LAT = str((float(row[16]) + float(row[18]))/2)\n",
    "        LON = str((float(row[17]) + float(row[19]))/2)\n",
    "        r = requests.get(url = \"http://api.geonames.org/findNearbyStreetsOSMJSON?\", params = {'lat':LAT,'lng':LON,'radius':\"1\",'username':\"user1029384756\"}) \n",
    "        data = r.json()\n",
    "        #print(\"https://www.openstreetmap.org/way/\" + str(data['streetSegment'][0]['wayId']))\n",
    "        row.append(\"https://www.openstreetmap.org/way/\" + str(data['streetSegment'][0]['wayId']))\n",
    "        writer.writerow(row)\n",
    "csv_file.close()"
   ]
  },
  {
   "cell_type": "code",
   "execution_count": 14,
   "metadata": {},
   "outputs": [
    {
     "name": "stdout",
     "output_type": "stream",
     "text": [
      "1000\n"
     ]
    }
   ],
   "source": [
    "import requests\n",
    "import csv\n",
    "import math\n",
    "from time import sleep\n",
    "from IPython.display import clear_output\n",
    "\n",
    "dict = {'Canal':'South Canal Street'}\n",
    "\n",
    "with open('output.csv') as csv_file:\n",
    "    reader = csv.reader(csv_file,delimiter=',')\n",
    "    with open('fromto1.csv', 'w', newline='') as inter_file:\n",
    "        writer = csv.writer(inter_file)\n",
    "        headers = next(reader)\n",
    "        i = 0\n",
    "        for row in reader:\n",
    "            clear_output(wait=True)\n",
    "            if not (row[5] in dict):\n",
    "                LAT = row[16]\n",
    "                LON = row[17]\n",
    "                r = requests.get(url = \"https://nominatim.openstreetmap.org/reverse?\", params = {'lat':LAT,'lon':LON,'format':\"jsonv2\"}) \n",
    "                data = r.json()\n",
    "                dict[row[5]] = data['address']['road']\n",
    "            row[5] = dict[row[5]]\n",
    "            if not (row[6] in dict):\n",
    "                LAT1 = row[18]\n",
    "                LON1 = row[19]\n",
    "                r1 = requests.get(url = \"https://nominatim.openstreetmap.org/reverse?\", params = {'lat':LAT1,'lon':LON1,'format':\"jsonv2\"}) \n",
    "                data1 = r1.json()\n",
    "                dict[row[6]] = data1['address']['road']\n",
    "            row[6] = dict[row[6]]\n",
    "            writer.writerow(row)\n",
    "            i += 1\n",
    "            print(str(i))\n",
    "            \n",
    "with open(\"dict.csv\", \"w\", newline='') as dict_file:\n",
    "    w = csv.writer(dict_file)\n",
    "    for key, val in dict.items():\n",
    "        w.writerow([key, val])"
   ]
  },
  {
   "cell_type": "code",
   "execution_count": 16,
   "metadata": {},
   "outputs": [
    {
     "name": "stdout",
     "output_type": "stream",
     "text": [
      "1000\n"
     ]
    }
   ],
   "source": [
    "with open('dict.csv', mode='r') as infile:\n",
    "    reader = csv.reader(infile)\n",
    "    mydict = {rows[0]:rows[1] for rows in reader}\n",
    "\n",
    "with open('fromto1.csv') as csv_file:\n",
    "    reader = csv.reader(csv_file,delimiter=',')\n",
    "    with open('final.csv', 'w', newline='') as final_file:\n",
    "        writer = csv.writer(final_file)\n",
    "        i = 0\n",
    "        for row in reader:\n",
    "            clear_output(wait=True)\n",
    "            if not (row[3] in mydict):\n",
    "                LAT2 = str((float(row[16]) + float(row[18]))/2)\n",
    "                LON2 = str((float(row[17]) + float(row[19]))/2)\n",
    "                r2 = requests.get(url = \"http://api.geonames.org/findNearbyStreetsOSMJSON?\", params = {'lat':LAT2,'lng':LON2,'radius':\"1\",'username':\"user1029384756\"})\n",
    "                data2 = r2.json()\n",
    "                mydict[row[3]] = data2['streetSegment'][0]['name']\n",
    "            row[3] = dict[row[3]]\n",
    "            writer.writerow(row)\n",
    "            i += 1\n",
    "            print(str(i))"
   ]
  },
  {
   "cell_type": "code",
   "execution_count": 16,
   "metadata": {},
   "outputs": [
    {
     "name": "stdout",
     "output_type": "stream",
     "text": [
      "24096431\n"
     ]
    }
   ],
   "source": [
    "import requests\n",
    "import pandas as pd\n",
    "from time import sleep\n",
    "from IPython.display import clear_output\n",
    "\n",
    "mydict = {}\n",
    "with open('final.csv') as csv_file:\n",
    "    reader = csv.reader(csv_file,delimiter=',')\n",
    "    headers = next(reader)\n",
    "    headers.append(\"test_column\")\n",
    "    with open('enriched.csv', 'w', newline='') as enriched_file:\n",
    "        writer = csv.writer(enriched_file)\n",
    "        writer.writerows(headers)\n",
    "        i = 0\n",
    "        for row in reader:\n",
    "            clear_output(wait=True)\n",
    "            if not (row[25] in mydict):\n",
    "                u = row[25].split(\"way/\")\n",
    "                print(str(u[1]))\n",
    "                #ID = str(u[1])\n",
    "                #r2 = requests.get(url = \"https://nominatim.openstreetmap.org/lookup?\", params = {'osm_ids':\"W\" + ID})\n",
    "                #data2 = r2.json()\n",
    "                #mydict[row[25]] = data2[0]['address']['neighbourhood']\n",
    "            #row[26] = mydict[row[25]]\n",
    "            #writer.writerow(row)\n",
    "            #i += 1"
   ]
  },
  {
   "cell_type": "code",
   "execution_count": 1,
   "metadata": {},
   "outputs": [
    {
     "name": "stdout",
     "output_type": "stream",
     "text": [
      "1000: 24096431\n",
      "No subburbs, but city.\n"
     ]
    }
   ],
   "source": [
    "import requests\n",
    "import pandas as pd\n",
    "from time import sleep\n",
    "from IPython.display import clear_output\n",
    "\n",
    "df = pd.read_csv('./final.csv', delimiter=',')\n",
    "df[\"SEGMENT_POST_CODE\"] = \"\"\n",
    "df[\"SEGMENT_CITY\"] = \"\"\n",
    "df[\"SEGMENT_SUBURB\"] = \"\"\n",
    "\n",
    "mydict = {}\n",
    "\n",
    "i = 1\n",
    "for index, row in df.iterrows():\n",
    "    clear_output(wait=True)\n",
    "    if not (row[25] in mydict):\n",
    "        sleep(1)\n",
    "        u = row[25].split(\"way/\")\n",
    "        ID = str(u[1])\n",
    "        print( str(i) + ': ' + ID )\n",
    "        try:\n",
    "            r = requests.get(url = \"https://nominatim.openstreetmap.org/lookup?\", params = {'osm_ids':\"W\" + ID,'format':'json'},timeout=10)\n",
    "            data = r.json()\n",
    "            try:\n",
    "                tmp = [data[0]['address']['postcode']]\n",
    "                try:\n",
    "                    tmp.extend(data[0]['address']['city'])\n",
    "                    try:\n",
    "                        tmp.extend(data[0]['address']['suburbs'])\n",
    "                    except KeyError:\n",
    "                        print('No subburbs, but city.')\n",
    "                except KeyError:\n",
    "                    try:\n",
    "                        tmp.extend(data[0]['address']['village'])\n",
    "                    except KeyError:\n",
    "                        try:\n",
    "                            print('Not a village, but town.')\n",
    "                            tmp.extend(data[0]['address']['town'])\n",
    "                        except:\n",
    "                            print('Nothing.')\n",
    "                mydict[row[25]] = tmp\n",
    "            except IndexError:\n",
    "                mydict[row[25]] = ''\n",
    "        except:\n",
    "            pass\n",
    "    else:\n",
    "        if not (mydict[row[25]] == ''):\n",
    "            row['SEGMENT_POST_CODE'] = mydict[row[25]][0]\n",
    "            row['SEGMENT_CITY'] = mydict[row[25]][1]\n",
    "            try:\n",
    "                row['SEGMENT_SUBURB'] = mydict[row[25]][2]\n",
    "            except:\n",
    "                pass\n",
    "    i += 1\n",
    "df.to_csv('./enriched.csv', sep=',')"
   ]
  },
  {
   "cell_type": "code",
   "execution_count": 13,
   "metadata": {},
   "outputs": [
    {
     "data": {
      "text/plain": [
       "{'road': 'South Cicero Avenue',\n",
       " 'town': 'Cicero',\n",
       " 'county': 'Cook County',\n",
       " 'state': 'Illinois',\n",
       " 'postcode': '60804',\n",
       " 'country': 'United States of America',\n",
       " 'country_code': 'us'}"
      ]
     },
     "execution_count": 13,
     "metadata": {},
     "output_type": "execute_result"
    }
   ],
   "source": [
    "import requests\n",
    "import csv\n",
    "# city 314954677\n",
    "# village 27803573\n",
    "r2 = requests.get(url = \"https://nominatim.openstreetmap.org/lookup?\", params = {'osm_ids':\"W428622870\",'format':'json'})\n",
    "data2 = r2.json()\n",
    "data2[0].get('address')"
   ]
  },
  {
   "cell_type": "code",
   "execution_count": 76,
   "metadata": {},
   "outputs": [
    {
     "name": "stdout",
     "output_type": "stream",
     "text": [
      "8\n",
      "11\n",
      "60305\n"
     ]
    }
   ],
   "source": [
    "import requests\n",
    "import csv\n",
    "import pandas as pd\n",
    "# city 314954677\n",
    "# village 27803573\n",
    "r2 = requests.get(url = \"https://nominatim.openstreetmap.org/lookup?\", params = {'osm_ids':\"W27803573\",'format':'json'})\n",
    "data2 = r2.json()\n",
    "data2\n",
    "\n",
    "df = pd.read_csv('./final.csv', delimiter=',')\n",
    "df[\"SEGMENT_POST_CODE\"] = \"\"\n",
    "df[\"SEGMENT_CITY\"] = \"\"\n",
    "df[\"SEGMENT_SUBURB\"] = \"\"\n",
    "\n",
    "for index in range(len(df.index)):\n",
    "    if(df.at[index,'OSM_ID'].split(\"way/\")[1] == str(data2[0]['osm_id'])):\n",
    "        print(index)\n",
    "        df.at[index,'SEGMENT_POST_CODE'] = data2[0]['address']['postcode']\n",
    "        \n",
    "print(df.at[8,'SEGMENT_POST_CODE'])\n",
    "        \n",
    "        \n",
    "df.to_csv('C:/Users/Sebastian/Desktop/enriched.csv', sep=',', encoding='utf-8', index=False)"
   ]
  },
  {
   "cell_type": "code",
   "execution_count": 60,
   "metadata": {},
   "outputs": [
    {
     "name": "stdout",
     "output_type": "stream",
     "text": [
      "[]\n",
      "Null\n"
     ]
    }
   ],
   "source": [
    "import requests\n",
    "import csv\n",
    "# city 314954677\n",
    "# village 27803573\n",
    "r2 = requests.get(url = \"https://nominatim.openstreetmap.org/lookup?\", params = {'osm_ids':\"W253737726\",'format':'json'})\n",
    "data2 = r2.json()\n",
    "print(data2)\n",
    "if(data2 == []):\n",
    "    print('Null')"
   ]
  },
  {
   "cell_type": "code",
   "execution_count": 79,
   "metadata": {},
   "outputs": [
    {
     "name": "stdout",
     "output_type": "stream",
     "text": [
      "1000\n",
      "Done!\n"
     ]
    }
   ],
   "source": [
    "import requests\n",
    "import pandas as pd\n",
    "from time import sleep\n",
    "from IPython.display import clear_output\n",
    "\n",
    "df = pd.read_csv('./final.csv', delimiter=',')\n",
    "df[\"SEGMENT_POSTCODE\"] = \"\"\n",
    "df[\"SEGMENT_CITY\"] = \"\"\n",
    "df[\"SEGMENT_SUBURB\"] = \"\"\n",
    "\n",
    "mydict = {}\n",
    "predict = {}\n",
    "IDs = []\n",
    "i = 1\n",
    "\n",
    "\n",
    "#find unique id's and add them to dictionary\n",
    "for index, row in df.iterrows():\n",
    "    if not (row[25] in predict):\n",
    "        predict[row[25].split(\"way/\")[1]] = ''\n",
    "\n",
    "#get information from API\n",
    "for key in predict.keys():\n",
    "    i += 1\n",
    "    IDs.extend('W' + str(key) + ',')\n",
    "    if (i > 50):\n",
    "        sleep(2)\n",
    "        print('Fetching another 50 objects...')\n",
    "        r = requests.get(url = \"https://nominatim.openstreetmap.org/lookup?\", params = {'osm_ids':''.join(IDs[:-1]),'format':'json'},timeout=10)\n",
    "        data = r.json()\n",
    "        for segment in data:\n",
    "            mydict[str(segment['osm_id'])] = segment['address']\n",
    "        IDs = []\n",
    "        i = 1\n",
    "        \n",
    "print(mydict['433783935'].get('city'))\n",
    "r = requests.get(url = \"https://nominatim.openstreetmap.org/lookup?\", params = {'osm_ids':''.join(IDs[:-1]),'format':'json'},timeout=10)\n",
    "data = r.json()\n",
    "for segment in data:\n",
    "    mydict[segment['osm_id']] = segment['address']\n",
    "\n",
    "i = 0\n",
    "for index in range(len(df.index)):\n",
    "    clear_output(wait=True)\n",
    "    address = df.at[index,'OSM_ID'].split(\"way/\")[1]\n",
    "    if (address in mydict and mydict[address] != []):\n",
    "        if (mydict[address].get('postcode')):\n",
    "            df.at[index,\"SEGMENT_POSTCODE\"] = str(mydict[address].get('postcode'))\n",
    "        if (mydict[address].get('city')):\n",
    "            df.at[index,\"SEGMENT_CITY\"] = str(mydict[address].get('city'))\n",
    "        if (mydict[address].get('village')):\n",
    "            df.at[index,\"SEGMENT_CITY\"] = str(mydict[address].get('village'))\n",
    "        if (mydict[address].get('town')):\n",
    "            df.at[index,\"SEGMENT_CITY\"] = str(mydict[address].get('town'))\n",
    "        if (mydict[address].get('suburb')):\n",
    "            df.at[index,\"SEGMENT_SUBURB\"] = str(mydict[address].get('suburb'))\n",
    "    i += 1\n",
    "    print(i)\n",
    "\n",
    "df.to_csv('./enriched.csv', sep=',')\n",
    "print('Done!')"
   ]
  }
 ],
 "metadata": {
  "kernelspec": {
   "display_name": "Python 3",
   "language": "python",
   "name": "python3"
  },
  "language_info": {
   "codemirror_mode": {
    "name": "ipython",
    "version": 3
   },
   "file_extension": ".py",
   "mimetype": "text/x-python",
   "name": "python",
   "nbconvert_exporter": "python",
   "pygments_lexer": "ipython3",
   "version": "3.7.4"
  }
 },
 "nbformat": 4,
 "nbformat_minor": 2
}
